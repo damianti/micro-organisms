{
  "cells": [
    {
      "cell_type": "markdown",
      "metadata": {},
      "source": [
        "# 📊 Análisis Exploratorio de Datos - Microbioma\n",
        "\n",
        "## Objetivo\n",
        "Entender la estructura de los datos de microbioma antes de crear la API.\n",
        "\n",
        "### Archivos que vamos a explorar:\n",
        "1. `biorun-metadata.csv.gz` - Metadatos de experimentos\n",
        "2. `summary.phylum.csv.gz` - Composición a nivel de filo\n",
        "3. `gtdb_taxonomy.tsv.gz` - Taxonomía completa\n"
      ]
    },
    {
      "cell_type": "code",
      "execution_count": null,
      "metadata": {},
      "outputs": [],
      "source": [
        "# Importar librerías necesarias\n",
        "import pandas as pd\n",
        "import numpy as np\n",
        "import matplotlib.pyplot as plt\n",
        "import seaborn as sns\n",
        "import warnings\n",
        "\n",
        "# Configurar visualización\n",
        "plt.style.use('default')\n",
        "sns.set_palette(\"husl\")\n",
        "warnings.filterwarnings('ignore')\n",
        "\n",
        "# Mostrar más columnas y filas\n",
        "pd.set_option('display.max_columns', 20)\n",
        "pd.set_option('display.max_rows', 100)\n",
        "\n",
        "print(\"✅ Librerías cargadas correctamente\")\n"
      ]
    },
    {
      "cell_type": "markdown",
      "metadata": {},
      "source": [
        "## 🔍 Paso 1: Cargar y Explorar Metadatos\n",
        "\n",
        "Los metadatos contienen información sobre cada experimento (biorun), incluyendo el tipo de ambiente.\n"
      ]
    },
    {
      "cell_type": "code",
      "execution_count": null,
      "metadata": {},
      "outputs": [],
      "source": [
        "# Cargar metadatos de bioruns\n",
        "print(\"📂 Cargando metadatos...\")\n",
        "metadata_path = '../../Microbe-vis-data/sandpiper1.0.0.condensed.biorun-metadata.csv.gz'\n",
        "metadata = pd.read_csv(metadata_path)\n",
        "\n",
        "print(f\"📊 Forma de los datos: {metadata.shape}\")\n",
        "print(f\"📋 Columnas: {list(metadata.columns[:10])}...\")  # Solo las primeras 10\n",
        "print(f\"💾 Memoria usada: {metadata.memory_usage(deep=True).sum() / 1024**2:.1f} MB\")\n"
      ]
    }
  ],
  "metadata": {
    "language_info": {
      "name": "python"
    }
  },
  "nbformat": 4,
  "nbformat_minor": 2
}
