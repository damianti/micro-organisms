{
  "cells": [
    {
      "cell_type": "markdown",
      "metadata": {},
      "source": [
        "# 📊 Exploratory Data Analysis - Microbiome\n",
        "\n",
        "## Objective\n",
        "Understand the structure of microbiome data before creating the API.\n",
        "\n",
        "### Files we will explore:\n",
        "1. `biorun-metadata.csv.gz` - Experiment metadata\n",
        "2. `summary.phylum.csv.gz` - Phylum-level composition\n",
        "3. `gtdb_taxonomy.tsv.gz` - Complete taxonomy\n"
      ]
    },
    {
      "cell_type": "code",
      "execution_count": null,
      "metadata": {},
      "outputs": [],
      "source": [
        "# Import necessary libraries\n",
        "import pandas as pd\n",
        "import numpy as np\n",
        "import matplotlib.pyplot as plt\n",
        "import seaborn as sns\n",
        "import warnings\n",
        "\n",
        "# Configure visualization\n",
        "plt.style.use('default')\n",
        "sns.set_palette(\"husl\")\n",
        "warnings.filterwarnings('ignore')\n",
        "\n",
        "# Show more columns and rows\n",
        "pd.set_option('display.max_columns', 20)\n",
        "pd.set_option('display.max_rows', 100)\n",
        "\n",
        "print(\"✅ Libraries loaded successfully\")\n"
      ]
    },
    {
      "cell_type": "markdown",
      "metadata": {},
      "source": [
        "## 🔍 Step 1: Load and Explore Metadata\n",
        "\n",
        "Metadata contains information about each experiment (biorun), including the environment type.\n"
      ]
    },
    {
      "cell_type": "code",
      "execution_count": null,
      "metadata": {},
      "outputs": [],
      "source": [
        "# Load biorun metadata\n",
        "print(\"📂 Loading metadata...\")\n",
        "metadata_path = '../../Microbe-vis-data/sandpiper1.0.0.condensed.biorun-metadata.csv.gz'\n",
        "metadata = pd.read_csv(metadata_path)\n",
        "\n",
        "print(f\"📊 Data shape: {metadata.shape}\")\n",
        "print(f\"📋 Columns: {list(metadata.columns[:10])}...\")  # Only first 10\n",
        "print(f\"💾 Memory used: {metadata.memory_usage(deep=True).sum() / 1024**2:.1f} MB\")\n"
      ]
    }
  ],
  "metadata": {
    "language_info": {
      "name": "python"
    }
  },
  "nbformat": 4,
  "nbformat_minor": 2
}
